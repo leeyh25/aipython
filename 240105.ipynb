{
  "nbformat": 4,
  "nbformat_minor": 0,
  "metadata": {
    "colab": {
      "provenance": [],
      "authorship_tag": "ABX9TyPTpUk6UdA6ieAI4FnjcWa7",
      "include_colab_link": true
    },
    "kernelspec": {
      "name": "python3",
      "display_name": "Python 3"
    },
    "language_info": {
      "name": "python"
    }
  },
  "cells": [
    {
      "cell_type": "markdown",
      "metadata": {
        "id": "view-in-github",
        "colab_type": "text"
      },
      "source": [
        "<a href=\"https://colab.research.google.com/github/leeyh25/aipython/blob/main/240105.ipynb\" target=\"_parent\"><img src=\"https://colab.research.google.com/assets/colab-badge.svg\" alt=\"Open In Colab\"/></a>"
      ]
    },
    {
      "cell_type": "code",
      "execution_count": 1,
      "metadata": {
        "id": "vVwFGvWiLmLh"
      },
      "outputs": [],
      "source": [
        "data = \"john,30,Engineer\\nAlice,25,Designer\\nBob,22,Artist\"\n",
        "lines = data.split(\"\\n\")\n",
        "\n"
      ]
    },
    {
      "cell_type": "code",
      "source": [
        "for line in lines:\n",
        "  fields = line.split(\",\")\n",
        "  print(\"Name:\",fields[0],\"Age:\",fields[1],\"Occupation:\",fields[2])"
      ],
      "metadata": {
        "colab": {
          "base_uri": "https://localhost:8080/"
        },
        "id": "B7cypDG2PDTw",
        "outputId": "f8ebac6b-2f28-43c2-c8fb-c96deffec888"
      },
      "execution_count": 2,
      "outputs": [
        {
          "output_type": "stream",
          "name": "stdout",
          "text": [
            "Name: john Age: 30 Occupation: Engineer\n",
            "Name: Alice Age: 25 Occupation: Designer\n",
            "Name: Bob Age: 22 Occupation: Artist\n"
          ]
        }
      ]
    },
    {
      "cell_type": "code",
      "source": [
        "words = ['Hello','world','this','is','a','test']\n",
        "sentence = ''.join(words)\n",
        "print(sentence)"
      ],
      "metadata": {
        "colab": {
          "base_uri": "https://localhost:8080/"
        },
        "id": "7NG4KWdsPmpM",
        "outputId": "b8e17d3b-af84-4ae8-982c-bb504b118c90"
      },
      "execution_count": 3,
      "outputs": [
        {
          "output_type": "stream",
          "name": "stdout",
          "text": [
            "Helloworldthisisatest\n"
          ]
        }
      ]
    },
    {
      "cell_type": "code",
      "source": [
        "A = \"Geeks for Geeks\"\n",
        "list = A.split(' ')\n",
        "print(list)"
      ],
      "metadata": {
        "colab": {
          "base_uri": "https://localhost:8080/"
        },
        "id": "GpX2Xwo-PU_F",
        "outputId": "c7303f9e-414b-4e98-bda8-8a8524f640b0"
      },
      "execution_count": 9,
      "outputs": [
        {
          "output_type": "stream",
          "name": "stdout",
          "text": [
            "['Geeks', 'for', 'Geeks']\n"
          ]
        }
      ]
    },
    {
      "cell_type": "code",
      "source": [
        "A = ['Geeks', 'for', 'Geeks']\n",
        "B = ''.join(A)\n",
        "print(B)"
      ],
      "metadata": {
        "colab": {
          "base_uri": "https://localhost:8080/"
        },
        "id": "_G3DG_4rQS2n",
        "outputId": "de125b9c-54cb-4979-eb71-12067350a0b5"
      },
      "execution_count": 16,
      "outputs": [
        {
          "output_type": "stream",
          "name": "stdout",
          "text": [
            "GeeksforGeeks\n"
          ]
        }
      ]
    },
    {
      "cell_type": "code",
      "source": [
        "squares=[x**2 for x in range(5) if x%2 ==0]\n",
        "print(squares)"
      ],
      "metadata": {
        "colab": {
          "base_uri": "https://localhost:8080/"
        },
        "id": "0w2rBlu_RSjW",
        "outputId": "12da1020-9a3a-400b-b64e-2bdd74dd7006"
      },
      "execution_count": 17,
      "outputs": [
        {
          "output_type": "stream",
          "name": "stdout",
          "text": [
            "[0, 4, 16]\n"
          ]
        }
      ]
    },
    {
      "cell_type": "code",
      "source": [
        "squares=[x**2 for x in range(1,21) if x%3==0]\n",
        "print(squares)"
      ],
      "metadata": {
        "colab": {
          "base_uri": "https://localhost:8080/"
        },
        "id": "OEnZCblITENH",
        "outputId": "3e91ca1f-f851-4b0f-aaea-4cb73c8a51f9"
      },
      "execution_count": 22,
      "outputs": [
        {
          "output_type": "stream",
          "name": "stdout",
          "text": [
            "[9, 36, 81, 144, 225, 324]\n"
          ]
        }
      ]
    },
    {
      "cell_type": "code",
      "source": [
        "a = [x**2 for x in range(1,6)]\n",
        "print(a)"
      ],
      "metadata": {
        "colab": {
          "base_uri": "https://localhost:8080/"
        },
        "id": "lRT0uMBUTi02",
        "outputId": "754ffa9e-ed09-4ab4-fa07-78cd4cfd1e2b"
      },
      "execution_count": 24,
      "outputs": [
        {
          "output_type": "stream",
          "name": "stdout",
          "text": [
            "[1, 4, 9, 16, 25]\n"
          ]
        }
      ]
    },
    {
      "cell_type": "code",
      "source": [
        "c = [\"Seoul\",\"New York\",\"London\",\"Shanghai\",\"Paris\",\"Tokyo\"]\n",
        "\n",
        "s = [c for c in range(6) if 'S']\n",
        "print(s)                          #리스트컴프래션은 어펜드 필요없다.  다시 해보자"
      ],
      "metadata": {
        "colab": {
          "base_uri": "https://localhost:8080/"
        },
        "id": "Auo7tu33UIZO",
        "outputId": "d1600296-4d39-4530-befa-25ad15438b46"
      },
      "execution_count": 28,
      "outputs": [
        {
          "output_type": "stream",
          "name": "stdout",
          "text": [
            "[0, 1, 2, 3, 4, 5]\n"
          ]
        }
      ]
    },
    {
      "cell_type": "code",
      "source": [
        "fruits = ['apple','banana','cherry']\n",
        "for index,fruit in enumerate(fruits):\n",
        "  print(index,fruit)"
      ],
      "metadata": {
        "colab": {
          "base_uri": "https://localhost:8080/"
        },
        "id": "123_YE5SVuFm",
        "outputId": "7ee15510-b84f-4c08-8c7e-b3eee61fed9d"
      },
      "execution_count": 30,
      "outputs": [
        {
          "output_type": "stream",
          "name": "stdout",
          "text": [
            "0 apple\n",
            "1 banana\n",
            "2 cherry\n"
          ]
        }
      ]
    },
    {
      "cell_type": "code",
      "source": [
        "al = ['a','b','c']\n",
        "for index, a in enumerate(al):\n",
        "  print('fruit',index,'name is',a)"
      ],
      "metadata": {
        "colab": {
          "base_uri": "https://localhost:8080/"
        },
        "id": "tcHc3fKiWh1N",
        "outputId": "f18e392e-eb0b-402a-b23f-0ba277d6d53f"
      },
      "execution_count": 31,
      "outputs": [
        {
          "output_type": "stream",
          "name": "stdout",
          "text": [
            "fruit 0 name is a\n",
            "fruit 1 name is b\n",
            "fruit 2 name is c\n"
          ]
        }
      ]
    },
    {
      "cell_type": "code",
      "source": [
        "s= ['a','b','c']\n",
        "\n",
        "for i in range(3):\n",
        ""
      ],
      "metadata": {
        "id": "qRIxDnAxXlfW"
      },
      "execution_count": null,
      "outputs": []
    },
    {
      "cell_type": "code",
      "source": [
        "names=['john','jane','Doe']\n",
        "ages=[25,30,35]\n",
        "\n",
        "for name, age in zip(names, ages):\n",
        "  print(f\"{name} is {age} tears old.\")"
      ],
      "metadata": {
        "colab": {
          "base_uri": "https://localhost:8080/"
        },
        "id": "rnUKBhizZR72",
        "outputId": "cd1ce051-320f-4115-8a5a-92786c77165b"
      },
      "execution_count": 32,
      "outputs": [
        {
          "output_type": "stream",
          "name": "stdout",
          "text": [
            "john is 25 tears old.\n",
            "jane is 30 tears old.\n",
            "Doe is 35 tears old.\n"
          ]
        }
      ]
    },
    {
      "cell_type": "code",
      "source": [
        "keys = ['a','b','c']\n",
        "values = [1,2,3]\n",
        "dt=dict(zip(keys,values))"
      ],
      "metadata": {
        "id": "37e7gqRLZob2"
      },
      "execution_count": 34,
      "outputs": []
    },
    {
      "cell_type": "code",
      "source": [
        "name = [\"M\",\"N\",\"S\",\"A\"]\n",
        "roll_no = [4,1,3,2]\n",
        "\n",
        "s = zip(name, roll_no)\n",
        "print(s)"
      ],
      "metadata": {
        "colab": {
          "base_uri": "https://localhost:8080/",
          "height": 239
        },
        "id": "I4XZEwBHaKax",
        "outputId": "a6af3e8e-320c-4409-953c-05b72570dbcc"
      },
      "execution_count": 39,
      "outputs": [
        {
          "output_type": "error",
          "ename": "TypeError",
          "evalue": "'list' object is not callable",
          "traceback": [
            "\u001b[0;31m---------------------------------------------------------------------------\u001b[0m",
            "\u001b[0;31mTypeError\u001b[0m                                 Traceback (most recent call last)",
            "\u001b[0;32m<ipython-input-39-a7f0abf54340>\u001b[0m in \u001b[0;36m<cell line: 5>\u001b[0;34m()\u001b[0m\n\u001b[1;32m      3\u001b[0m \u001b[0;34m\u001b[0m\u001b[0m\n\u001b[1;32m      4\u001b[0m \u001b[0ms\u001b[0m \u001b[0;34m=\u001b[0m \u001b[0mzip\u001b[0m\u001b[0;34m(\u001b[0m\u001b[0mname\u001b[0m\u001b[0;34m,\u001b[0m \u001b[0mroll_no\u001b[0m\u001b[0;34m)\u001b[0m\u001b[0;34m\u001b[0m\u001b[0;34m\u001b[0m\u001b[0m\n\u001b[0;32m----> 5\u001b[0;31m \u001b[0ms\u001b[0m\u001b[0;34m=\u001b[0m\u001b[0mlist\u001b[0m\u001b[0;34m(\u001b[0m\u001b[0ms\u001b[0m\u001b[0;34m)\u001b[0m\u001b[0;34m\u001b[0m\u001b[0;34m\u001b[0m\u001b[0m\n\u001b[0m\u001b[1;32m      6\u001b[0m \u001b[0mprint\u001b[0m\u001b[0;34m(\u001b[0m\u001b[0ms\u001b[0m\u001b[0;34m)\u001b[0m\u001b[0;34m\u001b[0m\u001b[0;34m\u001b[0m\u001b[0m\n",
            "\u001b[0;31mTypeError\u001b[0m: 'list' object is not callable"
          ]
        }
      ]
    },
    {
      "cell_type": "code",
      "source": [
        "#람다 함수 선언\n",
        "add = lambda x,y: x+y\n",
        "\n",
        "print(add(9,5))\n"
      ],
      "metadata": {
        "colab": {
          "base_uri": "https://localhost:8080/"
        },
        "id": "VKvnNBbabE5N",
        "outputId": "f6d65ce2-f2ef-42aa-f28f-183c5593d7f0"
      },
      "execution_count": 50,
      "outputs": [
        {
          "output_type": "stream",
          "name": "stdout",
          "text": [
            "14\n"
          ]
        }
      ]
    },
    {
      "cell_type": "code",
      "source": [
        "def add(x,y):\n",
        "  return x+y\n",
        "print(add(7,7))\n"
      ],
      "metadata": {
        "colab": {
          "base_uri": "https://localhost:8080/"
        },
        "id": "aS767bYJdQHl",
        "outputId": "8801decf-b002-4460-b498-2448a99b523d"
      },
      "execution_count": 52,
      "outputs": [
        {
          "output_type": "stream",
          "name": "stdout",
          "text": [
            "14\n"
          ]
        }
      ]
    },
    {
      "cell_type": "code",
      "source": [
        "double = lambda x: x*2\n",
        "print(double(5)) #10"
      ],
      "metadata": {
        "colab": {
          "base_uri": "https://localhost:8080/"
        },
        "id": "swVP2_60eDMP",
        "outputId": "b606ea4e-183f-4eb1-b813-feaa464fbf14"
      },
      "execution_count": 47,
      "outputs": [
        {
          "output_type": "stream",
          "name": "stdout",
          "text": [
            "10\n"
          ]
        }
      ]
    },
    {
      "cell_type": "code",
      "source": [
        "numbers = [1,2,3,4]"
      ],
      "metadata": {
        "id": "0Ilb4lQreeKG"
      },
      "execution_count": null,
      "outputs": []
    }
  ]
}